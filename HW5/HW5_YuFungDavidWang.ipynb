{
 "cells": [
  {
   "cell_type": "code",
   "execution_count": 1,
   "metadata": {},
   "outputs": [],
   "source": [
    "import scipy.io\n",
    "from sklearn.model_selection import train_test_split\n",
    "import numpy as np\n",
    "from matplotlib import pyplot as plt\n",
    "import pandas as pd\n"
   ]
  },
  {
   "cell_type": "code",
   "execution_count": 2,
   "metadata": {},
   "outputs": [],
   "source": [
    "# Problem 1 - K-Means\n",
    "\n",
    "# generate 2d classification dataset (toy dataset with 2-dimensions)\n",
    "\n",
    "from sklearn.datasets import make_blobs\n",
    "\n",
    "\n",
    "X, y = make_blobs(n_samples=100, centers=3, n_features=2)\n"
   ]
  },
  {
   "cell_type": "code",
   "execution_count": 3,
   "metadata": {},
   "outputs": [],
   "source": [
    "# Write K-means algorithm\n",
    "\n",
    "class K_means:\n",
    "    def __init__(self, K, iterations):\n",
    "        self.iterations = iterations\n",
    "        self.K = K\n",
    "    \n",
    "    # fit argument for Kmeans\n",
    "    def fit(self, data, K, iterations):\n",
    "        # get means and initialize means\n",
    "        \n",
    "        self.means = []\n",
    "        \n",
    "        for i in range(self.K):\n",
    "            self.means.append(data[i])\n",
    "        for i in range(self.iterations):\n",
    "            # get data points to be part of groups\n",
    "            groups = []\n",
    "            \n",
    "            for j in range(self.K):\n",
    "                groups.append([])\n",
    "            for p in data:\n",
    "                dist = [((p - mean_val) **2).sum() for mean_val in self.means] # distance to mean values\n",
    "                minimum = min(dist)\n",
    "                dist_index = dist.index(minimum) # mean to get to min distance\n",
    "                groups[dist_index].append(p) # get the point p to the group\n",
    "                \n",
    "            # calculate new mean\n",
    "            flag = False\n",
    "            for j in range(self.K):\n",
    "                n_mean = np.average(groups[j], axis = 0)\n",
    "                if not np.array_equal(self.means[j], n_mean):\n",
    "                    flag = True\n",
    "                self.means[j] = n_mean\n",
    "            if not flag:\n",
    "                break\n",
    "                \n",
    "    #predict argument for Kmeans\n",
    "    def predict(self, test):\n",
    "        preds = []\n",
    "        # distances to mean values\n",
    "        for p in test:\n",
    "            dist = [((p - mean_val) **2).sum() for mean_val in self.means] # distance to mean values\n",
    "            minimum = min(dist) # minimum distance\n",
    "            dist_index = dist.index(minimum) # mean to get to min distance\n",
    "            preds.append(dist_index) # get the point p to the group\n",
    "        return preds\n",
    "            \n",
    "            \n"
   ]
  },
  {
   "cell_type": "code",
   "execution_count": 4,
   "metadata": {},
   "outputs": [
    {
     "data": {
      "image/png": "[encoded data removed]",
      "text/plain": [
       "<Figure size 432x288 with 1 Axes>"
      ]
     },
     "metadata": {
      "needs_background": "light"
     },
     "output_type": "display_data"
    }
   ],
   "source": [
    "# Test algorithm\n",
    "\n",
    "k_means = K_means(K = 5, iterations = 100)\n",
    "\n",
    "k_means.fit(X, K = 5, iterations = 100)\n",
    "label = k_means.predict(X)\n",
    "\n",
    "\n",
    "# plot results\n",
    "\n",
    "u_labels = np.unique(label)\n",
    "\n",
    "for i in u_labels:\n",
    "    plt.scatter(X[label == i, 0], X[label == i, 1], label = i+1)\n",
    "    \n",
    "plt.title(\"K-Means Implementation with K = 5\")\n",
    "        \n",
    "plt.legend()\n",
    "plt.show()"
   ]
  },
  {
   "cell_type": "code",
   "execution_count": 5,
   "metadata": {},
   "outputs": [],
   "source": [
    "# Problem 2 - Gap Statistic\n",
    "\n",
    "# Load in data\n",
    "\n",
    "data = scipy.io.loadmat('HW5.mat')\n",
    "\n",
    "X = data['X']\n",
    "\n"
   ]
  },
  {
   "cell_type": "code",
   "execution_count": 9,
   "metadata": {},
   "outputs": [],
   "source": [
    "from sklearn.cluster import KMeans\n",
    "from sklearn.decomposition import PCA\n",
    "\n",
    "\n",
    "# implement Gap Statistic with sckit-learn KMeans\n",
    "\n",
    "max_k = 20 + 1 # to account for 0 index\n",
    "\n",
    "def optimalK(data, B = 100, maxK = max_k): # B = 100 and max_k goes up to 20\n",
    "    \n",
    "    # Get the evaluation of K from 1 to 20 (max)\n",
    "    gaps = np.zeros((len(range(1, maxK)),))\n",
    "    std_errors = np.zeros((len(range(1, maxK)),))\n",
    "    results = pd.DataFrame({'K':[], 'Gap Statistic':[]})\n",
    "    for i, k in enumerate(range(1, maxK)):\n",
    "\n",
    "        # reference initialization\n",
    "        ref_array = np.zeros(B)\n",
    "\n",
    "        # For B references, generate datasets from PCA and perform kmeans\n",
    "        for j in range(B):\n",
    "            \n",
    "            # Create new reference (null) datasets with principal component\n",
    "            pca = PCA(2)\n",
    "            pca.fit(X)\n",
    "            reference_PCA = pca.transform(X)\n",
    "            \n",
    "            # Fit to it\n",
    "            km = KMeans(k)\n",
    "            km.fit(reference_PCA)\n",
    "            \n",
    "            ref_score = km.inertia_ # reference scores\n",
    "            ref_array[j] = ref_score\n",
    "\n",
    "        # Fit cluster to original data to calculate gap\n",
    "        km = KMeans(k)\n",
    "        km.fit(data)\n",
    "        \n",
    "        orig_score = km.inertia_\n",
    "\n",
    "        # Calculate gap statistic\n",
    "        gap = np.log(np.mean(ref_array)) - np.log(orig_score)\n",
    "        \n",
    "        # Get std_error for error bars\n",
    "        error = np.log(ref_array - np.log(orig_score))\n",
    "        std_error = np.std(error)\n",
    "        \n",
    "\n",
    "        # Put gap statistic into overall array of gap statistics\n",
    "        gaps[i] = gap\n",
    "        std_errors[i] = std_error\n",
    "        results = results.append({'K':k, 'Gap Statistic':gap, 'Standard error': \"{:.7f}\".format(std_error)}, ignore_index=True)\n",
    "        \n",
    "\n",
    "    return (results)  \n",
    "\n",
    "\n"
   ]
  },
  {
   "cell_type": "code",
   "execution_count": 10,
   "metadata": {},
   "outputs": [],
   "source": [
    "# Perform the long operation of Gap Statistic and save it to variable so do not have to reperform this...\n",
    "\n",
    "gap_statistic = optimalK(X)\n",
    "\n",
    "\n"
   ]
  },
  {
   "cell_type": "code",
   "execution_count": 11,
   "metadata": {},
   "outputs": [
    {
     "name": "stdout",
     "output_type": "stream",
     "text": [
      "       K  Gap Statistic Standard error\n",
      "0    1.0      -1.074621      0.0000000\n",
      "1    2.0      -1.461978      0.0042615\n",
      "2    3.0      -1.869208      0.0027083\n",
      "3    4.0      -2.316360      0.0033094\n",
      "4    5.0      -2.570559      0.0191556\n",
      "5    6.0      -2.719729      0.0284757\n",
      "6    7.0      -2.797538      0.0154553\n",
      "7    8.0      -2.954304      0.0161611\n",
      "8    9.0      -3.095453      0.0217759\n",
      "9   10.0      -3.242088      0.0059496\n",
      "10  11.0      -3.393246      0.0481986\n",
      "11  12.0      -3.658543      0.0000005\n",
      "12  13.0      -4.052786      0.0000003\n",
      "13  14.0      -4.569820      0.0000003\n",
      "14  15.0      -4.400049      0.0000006\n",
      "15  16.0      -2.735086      0.0000000\n",
      "16  17.0      -2.767192      0.0061682\n",
      "17  18.0      -2.789953      0.0073006\n",
      "18  19.0      -2.803965      0.0093774\n",
      "19  20.0      -2.828864      0.0111137\n"
     ]
    }
   ],
   "source": [
    "# Results in pandas dataframe\n",
    "\n",
    "print(gap_statistic)"
   ]
  },
  {
   "cell_type": "code",
   "execution_count": 18,
   "metadata": {},
   "outputs": [
    {
     "data": {
      "image/png": "[encoded data removed]",
      "text/plain": [
       "<Figure size 432x288 with 1 Axes>"
      ]
     },
     "metadata": {
      "needs_background": "light"
     },
     "output_type": "display_data"
    }
   ],
   "source": [
    "# Graph the results\n",
    "\n",
    "y_plot = gap_statistic[[\"Gap Statistic\"]]\n",
    "x_plot = gap_statistic[[\"K\"]]\n",
    "y_err = gap_statistic[[\"Standard error\"]]\n",
    "y_err_flatten = y_err.values.flatten()\n",
    "\n",
    "x_plot_err = []\n",
    "for i in range(20):\n",
    "    x_plot_err.append(float(x_plot.iat[i,0]))\n",
    "\n",
    "y_plot_err = []\n",
    "for i in range(20):\n",
    "    y_plot_err.append(float(y_plot.iat[i, 0]))\n",
    "    \n",
    "y_errs = [float(i) for i in y_err_flatten]\n",
    "\n",
    "y_errs_test = [i * 5 for i in y_errs] #maginfied\n",
    "\n",
    "plt.scatter(x_plot, y_plot)\n",
    "plt.plot(x_plot, y_plot)\n",
    "\n",
    "\n",
    "# Adding error bars \n",
    "\n",
    "plt.errorbar(x_plot_err, y_plot_err, yerr = y_errs_test,fmt = '|')\n",
    "\n",
    "# Values where Gap(K) >= Gap(K + 1) -sk-1\n",
    "\n",
    "for i in range(13):\n",
    "    labs = plt.scatter(x_plot['K'][i], y_plot['Gap Statistic'][i], color = 'black')\n",
    "    \n",
    "for i in range(15,19):\n",
    "    labs = plt.scatter(x_plot['K'][i], y_plot['Gap Statistic'][i], color = 'black')\n",
    "\n",
    "    \n",
    "\n",
    "# Gap-Optimal K:  argmin {Gap(K) >= Gap(K+1) - sk+1} or more informally... when the rate of increase begins to \"slow down\"\n",
    "# gap statistic immediately decreases for 𝑘>1. So the first 𝑘 that satisfies the 1-standard-error criterion is 1\n",
    "\n",
    "# Hence Optimal K = 1\n",
    "plt.scatter(x_plot['K'][0], y_plot['Gap Statistic'][0], color = 'red', label = 'Gap-Optimal K')\n",
    "\n",
    "\n",
    "\n",
    "\n",
    "labs.set_label('Gap(K) >= Gap(K + 1) -sk-1')\n",
    "\n",
    "plt.xlabel('K')\n",
    "plt.ylabel('Gap Statistic')\n",
    "plt.title('K vs Gap Statistic')\n",
    "\n",
    "plt.legend()\n",
    "\n",
    "plt.show()\n",
    "\n"
   ]
  },
  {
   "cell_type": "code",
   "execution_count": null,
   "metadata": {},
   "outputs": [],
   "source": []
  }
 ],
 "metadata": {
  "kernelspec": {
   "display_name": "Python 3",
   "language": "python",
   "name": "python3"
  },
  "language_info": {
   "codemirror_mode": {
    "name": "ipython",
    "version": 3
   },
   "file_extension": ".py",
   "mimetype": "text/x-python",
   "name": "python",
   "nbconvert_exporter": "python",
   "pygments_lexer": "ipython3",
   "version": "3.8.5"
  }
 },
 "nbformat": 4,
 "nbformat_minor": 4
}
